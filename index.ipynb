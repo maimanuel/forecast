{
 "cells": [
  {
   "cell_type": "code",
   "execution_count": null,
   "metadata": {},
   "outputs": [],
   "source": [
    "#| hide\n",
    "#from forecast.core import *"
   ]
  },
  {
   "cell_type": "markdown",
   "metadata": {},
   "source": [
    "# Datagrounds\n",
    "\n",
    "> The Best Consultants for Your Job"
   ]
  },
  {
   "cell_type": "markdown",
   "metadata": {},
   "source": [
    "## We Are the Best Consultants\n",
    "\n",
    "You might think, are you for real? Our answer is a resounding, yes we are!\n",
    "\n",
    "No one has ever been better at consulting than us. We go in there, find the job, and get it done. Every time. Guaranteed.\n",
    "\n",
    "What more do you need to know? Whatever your data problem, we can help. We are also in high demand, so reach out to us immediately! \n",
    "\n",
    "**Right now!**"
   ]
  },
  {
   "cell_type": "markdown",
   "metadata": {},
   "source": [
    " :* "
   ]
  },
  {
   "cell_type": "code",
   "execution_count": null,
   "metadata": {},
   "outputs": [],
   "source": []
  }
 ],
 "metadata": {
  "kernelspec": {
   "display_name": "jarvis",
   "language": "python",
   "name": "jarvis"
  }
 },
 "nbformat": 4,
 "nbformat_minor": 4
}
